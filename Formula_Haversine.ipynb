{
  "nbformat": 4,
  "nbformat_minor": 0,
  "metadata": {
    "colab": {
      "name": "Formula_Haversine.ipynb",
      "provenance": [],
      "authorship_tag": "ABX9TyN6Vv1vF5wNrf4W2Pi60db0",
      "include_colab_link": true
    },
    "kernelspec": {
      "name": "python3",
      "display_name": "Python 3"
    },
    "language_info": {
      "name": "python"
    }
  },
  "cells": [
    {
      "cell_type": "markdown",
      "metadata": {
        "id": "view-in-github",
        "colab_type": "text"
      },
      "source": [
        "<a href=\"https://colab.research.google.com/github/leilasantiago/Haversine/blob/main/Formula_Haversine.ipynb\" target=\"_parent\"><img src=\"https://colab.research.google.com/assets/colab-badge.svg\" alt=\"Open In Colab\"/></a>"
      ]
    },
    {
      "cell_type": "code",
      "execution_count": 2,
      "metadata": {
        "id": "569Lin7DASH4"
      },
      "outputs": [],
      "source": [
        "# distância de haversine instruções em: https://en.wikipedia.org/wiki/Haversine_formula Acesso em 21/07/2022\n",
        "from math import*\n",
        "def compute_distance(loc1,loc2):\n",
        "    dx = loc1[0]-loc2[0] # Longitude do ponto\n",
        "    dy = loc1[1]-loc2[1] # Latitude do ponto\n",
        "    raio = 6371 # medida em quilômetros\n",
        "    #Transformando para radiano\n",
        "    dx_rad = dx*pi/180\n",
        "    dy_rad = dy*pi/180\n",
        "    lat1_rad = loc1[1]*pi/180\n",
        "    lat2_rad = loc2[1]*pi/180\n",
        "    # função pow(x,y) retorna x**y\n",
        "    radicando = pow(sin(dx_rad/2),2) + cos(lat1_rad)*cos(lat2_rad)*pow(sin(dy_rad/2),2)\n",
        "    # Calculando a distância\n",
        "    d = 2*raio*asin(sqrt(radicando))\n",
        "    # para passar para metros basta multiplicar d por 1000\n",
        "    return print(round(d,2),'km')\n",
        "    \n",
        "    # Instruções: compute_distance((lon1,lat1),(lon2,lat2))"
      ]
    }
  ]
}
